{
 "cells": [
  {
   "cell_type": "markdown",
   "metadata": {},
   "source": [
    "# Observatory json -> db"
   ]
  },
  {
   "cell_type": "code",
   "execution_count": null,
   "metadata": {},
   "outputs": [],
   "source": [
    "from flask_backend import db\n",
    "from flask_backend.models import Observatory\n",
    "import numpy as np\n",
    "\n",
    "db.create_all()\n",
    "\n",
    "import json\n",
    "\n",
    "'''\n",
    "newObs = Observatory(9999, None, None, None, 10)\n",
    "\n",
    "db.session.add(newObs)\n",
    "\n",
    "db.session.commit()\n",
    "\n",
    "Observatory.query.all()\n",
    "'''\n",
    "rep = Observatory.query.filter_by(id=11).first()\n",
    "\n",
    "#rep.mwid = 2\n",
    "\n",
    "rep.telescope = 'LIGO/Virgo'\n",
    "\n",
    "#rep.fullName = 'Neil Gehrels Swift Observatory'\n",
    "\n",
    "db.session.commit()\n",
    "\n",
    "#db.session.delete(rep)\n",
    "\n",
    "Observatory.query.all()\n"
   ]
  },
  {
   "cell_type": "code",
   "execution_count": null,
   "metadata": {},
   "outputs": [],
   "source": [
    "Observatory.query.all()"
   ]
  },
  {
   "cell_type": "code",
   "execution_count": null,
   "metadata": {},
   "outputs": [],
   "source": [
    "from flask_backend import db\n",
    "from flask_backend.models import Event\n",
    "import numpy as np\n",
    "\n",
    "db.create_all()\n",
    "\n",
    "import json\n",
    "eline = Event(99999, 'others',  'others', None, None, None, None, None, None, None, None)\n"
   ]
  },
  {
   "cell_type": "code",
   "execution_count": null,
   "metadata": {},
   "outputs": [],
   "source": [
    "a = Event.query.filter_by(id=99999).first()"
   ]
  },
  {
   "cell_type": "code",
   "execution_count": null,
   "metadata": {},
   "outputs": [],
   "source": [
    "a"
   ]
  },
  {
   "cell_type": "code",
   "execution_count": null,
   "metadata": {},
   "outputs": [],
   "source": [
    "db.session.delete(a)"
   ]
  },
  {
   "cell_type": "code",
   "execution_count": null,
   "metadata": {},
   "outputs": [],
   "source": [
    "db.session.add(eline)\n",
    "db.session.commit()"
   ]
  },
  {
   "cell_type": "code",
   "execution_count": null,
   "metadata": {},
   "outputs": [],
   "source": [
    "Observatory.query.all()"
   ]
  },
  {
   "cell_type": "markdown",
   "metadata": {},
   "source": [
    "# Mission json -> db"
   ]
  },
  {
   "cell_type": "code",
   "execution_count": null,
   "metadata": {},
   "outputs": [],
   "source": [
    "from flask_backend import db\n",
    "from flask_backend.models_notice import Mission, Notice, Detail, EventNotice\n",
    "import numpy as np\n",
    "import json\n",
    "from IPython.display import clear_output\n",
    "db.create_all()"
   ]
  },
  {
   "cell_type": "code",
   "execution_count": null,
   "metadata": {},
   "outputs": [],
   "source": [
    "with open('./notice/missions.json') as f:\n",
    "    for line in f.readlines():\n",
    "        data = json.loads(line)\n",
    "        mLine = Mission(data['mid'], data['name'], data['description'], data['basedir']) \n",
    "        \n",
    "        db.session.add(mLine)\n",
    "        db.session.commit()"
   ]
  },
  {
   "cell_type": "code",
   "execution_count": null,
   "metadata": {},
   "outputs": [],
   "source": [
    "a = Detail.query.filter_by(nid=100)"
   ]
  },
  {
   "cell_type": "code",
   "execution_count": null,
   "metadata": {},
   "outputs": [],
   "source": [
    "a.filter_by(key=\"NOTICE_DATE\").first()"
   ]
  },
  {
   "cell_type": "markdown",
   "metadata": {},
   "source": [
    "# Notice json -> db"
   ]
  },
  {
   "cell_type": "code",
   "execution_count": null,
   "metadata": {},
   "outputs": [],
   "source": [
    "with open('./notice/notices.json') as f:\n",
    "    i = 0\n",
    "    for line in f.readlines():\n",
    "        data = json.loads(line)\n",
    "        nLine = Notice(data['nid'], data['mid'], data['file']) \n",
    "        \n",
    "        db.session.add(nLine)\n",
    "        db.session.commit()"
   ]
  },
  {
   "cell_type": "markdown",
   "metadata": {},
   "source": [
    "# Detail json -> db"
   ]
  },
  {
   "cell_type": "code",
   "execution_count": null,
   "metadata": {},
   "outputs": [],
   "source": [
    "with open('./notice/details.json') as f:\n",
    "    i = 0\n",
    "    for line in f.readlines():\n",
    "        data = json.loads(line)\n",
    "        dLine = Detail(i, data['nid'], data['line'], data['key'], data['textval'], data['realval'], str(data['arrval']))\n",
    "        db.session.add(dLine)\n",
    "        db.session.commit()\n",
    "        i+=1\n",
    "        print(i)\n",
    "        clear_output(wait=True)"
   ]
  },
  {
   "cell_type": "markdown",
   "metadata": {},
   "source": [
    "# Parse GRB information"
   ]
  },
  {
   "cell_type": "code",
   "execution_count": null,
   "metadata": {},
   "outputs": [],
   "source": [
    "from flask_backend import db\n",
    "from flask_backend.models_notice import Notice, Detail, EventNotice\n",
    "import numpy as np\n",
    "from astropy.time import Time\n",
    "from astropy.coordinates import SkyCoord\n",
    "import astropy.units as u\n",
    "from IPython.display import clear_output\n",
    "from datetime import datetime\n",
    "db.create_all()"
   ]
  },
  {
   "cell_type": "markdown",
   "metadata": {},
   "source": [
    "## Swift"
   ]
  },
  {
   "cell_type": "code",
   "execution_count": null,
   "metadata": {},
   "outputs": [],
   "source": [
    "Swift_filter1 = Detail.query.filter_by(key=\"COMMENTS\").filter_by(textval=\"This is a GRB.\")\n",
    "Swift_filter2 = Notice.query.filter_by(mid=1)\n",
    "\n",
    "Swift_nid = []\n",
    "temp = []\n",
    "for notice in Swift_filter1:\n",
    "    temp.append(notice.nid)\n",
    "\n",
    "for notice in Swift_filter2:\n",
    "    if notice.id in temp:\n",
    "        Swift_nid.append(notice.id)\n",
    "        \n"
   ]
  },
  {
   "cell_type": "code",
   "execution_count": null,
   "metadata": {},
   "outputs": [],
   "source": [
    "Swift_GRBs = []\n",
    "i=1\n",
    "for nid in Swift_nid:\n",
    "    notice = Detail.query.filter_by(nid=nid)\n",
    "    trig_num = notice.filter_by(key=\"TRIGGER_NUM\").first().textval[:notice.filter_by(key=\"TRIGGER_NUM\").first().textval.find(\",\")]\n",
    "    try:\n",
    "        ra = float(notice.filter_by(key=\"GRB_RA\").first().realval)\n",
    "    except:\n",
    "        continue\n",
    "    try:\n",
    "        dec = float(notice.filter_by(key=\"GRB_DEC\").first().realval)\n",
    "    except:\n",
    "        continue\n",
    "        \n",
    "    c = SkyCoord(ra*u.deg, dec*u.deg)\n",
    "    ra_hms = \"{:.0f}:{:.0f}:{:.2f}\".format(*c.ra.hms)\n",
    "    dec_dms =  \"{:.0f}:{:.0f}:{:.2f}\".format(c.dec.dms[0], abs(c.dec.dms[1]), abs(c.dec.dms[2]))\n",
    "    err = notice.filter_by(key=\"GRB_ERROR\").first()\n",
    "    if notice.filter_by(key=\"GRB_ERROR\").first() != None:\n",
    "        err = err.realval\n",
    "    \n",
    "    try:\n",
    "        trig_time = Time(float(notice.filter_by(key=\"GRB_DATE\").first().realval) + float(notice.filter_by(key=\"GRB_TIME\").first().realval), format='mjd')\n",
    "        trigger = trig_time.isot\n",
    "        \n",
    "    except:\n",
    "        print(notice)\n",
    "    \n",
    "    Swift_GRBs.append([trig_num, trigger, ra, ra_hms, dec, dec_dms, err])\n",
    "    print(i, 1, int(nid), int(trig_num), None, None, Time(trigger).datetime, ra, dec, ra_hms, dec_dms, err)    \n",
    "    enLine = EventNotice(i, 1, int(nid), int(trig_num), None, None, Time(trigger).datetime, ra, dec, ra_hms, dec_dms, err)\n",
    "\n",
    "    db.session.add(enLine)\n",
    "    db.session.commit()\n",
    "    i+=1\n",
    "    print(i, np.size(Swift_nid))\n",
    "    clear_output(wait=True)\n",
    "np.save(\"Swift\", Swift_GRBs)"
   ]
  },
  {
   "cell_type": "markdown",
   "metadata": {},
   "source": [
    "## Fermi"
   ]
  },
  {
   "cell_type": "code",
   "execution_count": null,
   "metadata": {},
   "outputs": [],
   "source": [
    "Fermi_filter1 = Detail.query.filter_by(key=\"COMMENTS\").filter_by(textval=\"This is likely a Long GRB.\")\n",
    "Fermi_filter2 = Detail.query.filter_by(key=\"COMMENTS\").filter_by(textval=\"This is likely a Short GRB.\")\n",
    "\n",
    "Fermi_nid = []\n",
    "for notice in Fermi_filter1:\n",
    "    Fermi_nid.append(notice.nid)\n",
    "\n",
    "for notice in Fermi_filter2:\n",
    "    Fermi_nid.append(notice.nid)\n",
    "\n",
    "Fermi_GRBs = []\n",
    "\n",
    "for nid in Fermi_nid:\n",
    "    notice = Detail.query.filter_by(nid=nid)\n",
    "    trig_num = notice.filter_by(key=\"TRIGGER_NUM\").first().textval\n",
    "    ra = float(notice.filter_by(key=\"GRB_RA\").first().realval)\n",
    "    dec = float(notice.filter_by(key=\"GRB_DEC\").first().realval)\n",
    "        \n",
    "    c = SkyCoord(ra*u.deg, dec*u.deg)\n",
    "    ra_hms = \"{:.0f}:{:.0f}:{:.2f}\".format(*c.ra.hms)\n",
    "    dec_dms =  \"{:.0f}:{:.0f}:{:.2f}\".format(c.dec.dms[0], abs(c.dec.dms[1]), abs(c.dec.dms[2]))\n",
    "    err = notice.filter_by(key=\"GRB_ERROR\").first()\n",
    "    if notice.filter_by(key=\"GRB_ERROR\").first() != None:\n",
    "        err = err.realval\n",
    "    \n",
    "    try:\n",
    "        trig_time = Time(float(notice.filter_by(key=\"GRB_DATE\").first().realval) + float(notice.filter_by(key=\"GRB_TIME\").first().realval), format='mjd')\n",
    "        trigger = trig_time.isot\n",
    "        \n",
    "    except:\n",
    "        print(notice)\n",
    "    \n",
    "    Fermi_GRBs.append([trig_num, trigger, ra, ra_hms, dec, dec_dms, err])\n",
    "    print(i, 5, int(nid), int(trig_num), None, None, Time(trigger).datetime, ra, dec, ra_hms, dec_dms, err)    \n",
    "    enLine = EventNotice(i, 5, int(nid), int(trig_num), None, None, Time(trigger).datetime, ra, dec, ra_hms, dec_dms, err)\n",
    "\n",
    "    db.session.add(enLine)\n",
    "    db.session.commit()\n",
    "    i+=1\n",
    "    print(i, np.size(Fermi_nid))\n",
    "    clear_output(wait=True)\n",
    "np.save(\"Fermi\", Fermi_GRBs)"
   ]
  },
  {
   "cell_type": "markdown",
   "metadata": {},
   "source": [
    "# Association"
   ]
  },
  {
   "cell_type": "code",
   "execution_count": 1,
   "metadata": {},
   "outputs": [],
   "source": [
    "from flask_backend.models import Circular, Event, Observatory, MMMW,  Detail, EventNotice\n",
    "\n",
    "from flask_backend import db\n",
    "import numpy as np\n",
    "from astropy.time import Time\n",
    "from astropy.coordinates import SkyCoord\n",
    "import astropy.units as u\n",
    "from IPython.display import clear_output\n",
    "from datetime import datetime\n",
    "\n",
    "db.create_all()"
   ]
  },
  {
   "cell_type": "code",
   "execution_count": null,
   "metadata": {},
   "outputs": [],
   "source": [
    "swift_n = np.load(\"./etc/BAT_names.npy\")\n",
    "\n",
    "fermi_n = np.load(\"./etc/GBM_names_fixed.npy\")\n",
    "\n",
    "\n",
    "GRB_list = swift_n[:,1].tolist() + fermi_n[:,1].tolist()\n",
    "\n",
    "GRB_list = sorted(list(set(GRB_list)))\n",
    "\n",
    "evt_list = []\n",
    "i = 1\n",
    "for grb in GRB_list:\n",
    "    try:\n",
    "        s_idx = swift_n[:,1].tolist().index(grb)\n",
    "        s_id = swift_n[s_idx][0]\n",
    "    except:\n",
    "        s_id = None\n",
    "        pass\n",
    "\n",
    "    try:\n",
    "        f_idx = fermi_n[:,1].tolist().index(grb)\n",
    "        f_id = fermi_n[f_idx][0][3:]\n",
    "    except:\n",
    "        f_id = None\n",
    "        pass\n",
    "    evt_list.append([i, grb, s_id, f_id])\n",
    "    i+=1\n",
    "evt_list = np.asarray(evt_list)"
   ]
  },
  {
   "cell_type": "markdown",
   "metadata": {},
   "source": [
    "## Swift"
   ]
  },
  {
   "cell_type": "code",
   "execution_count": null,
   "metadata": {},
   "outputs": [],
   "source": [
    "events = EventNotice.query.all()\n",
    "for evt in events:\n",
    "    if str(evt.tid) in evt_list[:,2]:\n",
    "        evt_n = EventNotice.query.filter_by(tid=evt.tid).first()\n",
    "        evt_idx = evt_list[:,2].tolist().index(str(evt.tid))\n",
    "        print(evt_list[evt_idx][1], evt_n.trigger)\n",
    "        evt_n.evtid = evt_list[evt_idx][0]\n",
    "        evt_n.event = evt_list[evt_idx][1]\n",
    "        db.session.commit()"
   ]
  },
  {
   "cell_type": "markdown",
   "metadata": {},
   "source": [
    "## Fermi"
   ]
  },
  {
   "cell_type": "code",
   "execution_count": null,
   "metadata": {},
   "outputs": [],
   "source": [
    "events = EventNotice.query.all()\n",
    "for evt in events:\n",
    "    foundF = False\n",
    "    trig_time = Time(evt.trigger)\n",
    "    name1 = trig_time.isot[:10].replace(\"-\", \"\")[2:]\n",
    "    name2 = \"{:.3f}\".format((trig_time.datetime.hour*3600+trig_time.datetime.minute*60+trig_time.datetime.second)/(24*60*60))\n",
    "    trig_DT = str(name1)+str(name2)\n",
    "    trig_DT = trig_DT.replace(\"0.\", \"\")\n",
    "    if trig_DT in evt_list[:,3]:\n",
    "        evt_idx = evt_list[:,3].tolist().index(str(int(trig_DT)))\n",
    "        print(trig_DT, evt_list[evt_idx])\n",
    "        foundF = True\n",
    "    elif int(trig_DT) in (evt_list[:,3][evt_list[:,3]!=None].astype(\"int\")+1):\n",
    "        evt_idx = evt_list[:,3].tolist().index(str(int(trig_DT)-1))\n",
    "        print(trig_DT, evt_list[evt_idx])\n",
    "        foundF = True\n",
    "    elif int(trig_DT) in (evt_list[:,3][evt_list[:,3]!=None].astype(\"int\")-1):\n",
    "        evt_idx = evt_list[:,3].tolist().index(str(int(trig_DT)+1))\n",
    "        print(trig_DT, evt_list[evt_idx])\n",
    "        foundF = True\n",
    "    elif evt.mid == 5 and sum(fermi_n[:,1] == 'GRB'+trig_DT[:6]+'A') > 0:\n",
    "        print(trig_DT, \"Not\")\n",
    "    if foundF:\n",
    "        evt_n = EventNotice.query.filter_by(tid=evt.tid).first()\n",
    "        evt_n.evtid = evt_list[evt_idx][0]\n",
    "        evt_n.event = evt_list[evt_idx][1]\n",
    "        db.session.commit()"
   ]
  },
  {
   "cell_type": "code",
   "execution_count": null,
   "metadata": {},
   "outputs": [],
   "source": [
    "for evt in evt_list:\n",
    "    eNotice = EventNotice.query.filter_by(evtid = evt[0]).all()\n",
    "    if len(eNotice) == 1:\n",
    "        eNotice = eNotice[0]\n",
    "        Eline = Event(eNotice.evtid, eNotice.event, 'GRB', eNotice.trigger, eNotice.ra, eNotice.dec, eNotice.ra_hms, eNotice.dec_dms, eNotice.error)\n",
    "    elif len(eNotice) == 2:\n",
    "        eNotice_s = EventNotice.query.filter_by(evtid = evt[0]).filter_by(mid=1).first()\n",
    "        eNotice_f = EventNotice.query.filter_by(evtid = evt[0]).filter_by(mid=5).first()\n",
    "        print(eNotice_s.trigger, eNotice_f.trigger, Time(eNotice_s.trigger)- Time(eNotice_f.trigger))\n",
    "        if (Time(eNotice_s.trigger)- Time(eNotice_f.trigger)) > 0:\n",
    "            trigger = eNotice_f.trigger\n",
    "        else:\n",
    "            trigger = eNotice_s.trigger\n",
    "        Eline = Event(eNotice_s.evtid, eNotice_s.event, 'GRB', trigger, eNotice_s.ra, eNotice_s.dec, eNotice_s.ra_hms, eNotice_s.dec_dms, eNotice_s.error)\n",
    "    else:\n",
    "        Eline = Event(evt[0], evt[1], 'GRB', None, None, None, None, None, None)\n",
    "    db.session.add(Eline)\n",
    "    db.session.commit()\n",
    "    "
   ]
  },
  {
   "cell_type": "code",
   "execution_count": null,
   "metadata": {},
   "outputs": [],
   "source": [
    "evts = Event.query.all()\n",
    "for evt in evts:\n",
    "    if evt.ra != None:\n",
    "        c = SkyCoord(evt.ra*u.deg, evt.dec*u.deg)\n",
    "        ra_hms = \"{:.0f}:{:.0f}:{:.2f}\".format(*c.ra.hms)\n",
    "        dec_dms =  \"{:.0f}:{:.0f}:{:.2f}\".format(c.dec.dms[0], abs(c.dec.dms[1]), abs(c.dec.dms[2]))\n",
    "        evt.ra_hms = ra_hms\n",
    "        evt.dec_dms = dec_dms\n",
    "        db.session.commit()"
   ]
  },
  {
   "cell_type": "code",
   "execution_count": null,
   "metadata": {},
   "outputs": [],
   "source": [
    "evts = Event.query.all()\n",
    "\n",
    "evtList = []\n",
    "for evt in evts:\n",
    "    if len(evt.notices) == 0:\n",
    "        evtList.append([evt.id, evt.event, 0])\n",
    "    else:\n",
    "        for en in  evt.notices:\n",
    "            evtList.append([evt.id, evt.event, en.tid])\n",
    "\n",
    "evtList=np.asarray(evtList)"
   ]
  },
  {
   "cell_type": "code",
   "execution_count": 5,
   "metadata": {},
   "outputs": [],
   "source": [
    "subject = Circular.query.filter_by(id=27347).first().subject"
   ]
  },
  {
   "cell_type": "code",
   "execution_count": 7,
   "metadata": {},
   "outputs": [
    {
     "name": "stdout",
     "output_type": "stream",
     "text": [
      "901\n"
     ]
    }
   ],
   "source": [
    "ListOfObs = Observatory.query.all()\n",
    "\n",
    "title = \" \"+subject[subject.find(\":\")+1:]+\" \"\n",
    "\n",
    "title = title.replace(\"Fermi GRB\", \"GRB\") # This is due to MASTER-NET reports\n",
    "title = title.replace(\":\", \" \")\n",
    "title = title.replace(\"_\", \" \")\n",
    "\n",
    "ListOfTel = []\n",
    "\n",
    "for obs in ListOfObs:\n",
    "    if obs.id < 1000:\n",
    "        ListOfTel.append([obs.id, obs.telescope, obs.detector, obs.fullName])\n",
    "\n",
    "ListOfTel = np.asarray(ListOfTel)\n",
    "\n",
    "foundTel = [tel[0] for tel in ListOfTel if (title.find(\" \"+tel[1]+\" \")>=0) or (title.find(\" \"+tel[1]+\"/\")>=0) or (title.find(\" \"+tel[1]+\"-\")>=0) or (title.find(\"(\"+tel[1]+\")\")>=0) or (title.find(\" \"+tel[1].upper()+\" \")>=0)]\n",
    "foundTel += [tel[0] for tel in ListOfTel if (tel[0] not in foundTel) and ((tel[2]!=None) and (((title.find(\" \"+tel[2]+\" \")>=0) or (title.find(\"(\"+tel[3]+\")\")>=0) or (title.find(\" \"+tel[3].upper()+\" \")>=0))))]\n",
    "foundTel += [tel[0] for tel in ListOfTel if (tel[0] not in foundTel) and (((title.find(\" \"+tel[3]+\" \")>=0) or (title.find(\" \"+tel[3]+\"/\")>=0) or (title.find(\" \"+tel[3]+\"-\")>=0) or (title.find(\"(\"+tel[3]+\")\")>=0) or (title.find(\" \"+tel[3].upper()+\" \")>=0)))]\n",
    "foundTel += [tel[0] for tel in ListOfTel if (tel[0] not in foundTel) and (np.size(foundTel) == 0) and ((tel[1] == 'LIGO/Virgo' or tel[1] == 'IceCube' or tel[1] == 'ANTARES') and (subject.find(tel[1])>=0))]\n",
    "\n",
    "if np.size(foundTel)== 1:\n",
    "    foundObs = ListOfTel[ListOfTel[:,0]==foundTel[0]]\n",
    "    print(foundObs[0][0])\n"
   ]
  },
  {
   "cell_type": "code",
   "execution_count": null,
   "metadata": {},
   "outputs": [],
   "source": []
  }
 ],
 "metadata": {
  "kernelspec": {
   "display_name": "Python 3",
   "language": "python",
   "name": "python3"
  },
  "language_info": {
   "codemirror_mode": {
    "name": "ipython",
    "version": 3
   },
   "file_extension": ".py",
   "mimetype": "text/x-python",
   "name": "python",
   "nbconvert_exporter": "python",
   "pygments_lexer": "ipython3",
   "version": "3.7.6"
  }
 },
 "nbformat": 4,
 "nbformat_minor": 4
}
