{
 "cells": [
  {
   "cell_type": "code",
   "execution_count": 11,
   "metadata": {},
   "outputs": [],
   "source": [
    "# -*- coding: utf-8 -*-\n",
    "\"\"\"\n",
    "Created on Mon Mar 16 15:02:52 2020\n",
    "Modified on Tue July 7 2020\n",
    "\n",
    "@author: eburns3\n",
    "@modified: dtak\n",
    "\"\"\"\n",
    "\n",
    "\n",
    "from astropy.io import fits\n",
    "from astropy.time import Time\n",
    "import astropy.units as u\n",
    "import matplotlib.pyplot as plt\n",
    "import os\n",
    "\n",
    "#from astropy_healpix import pixel_resolution_to_nside\n",
    "\n",
    "#from pandas import DataFrame\n",
    "import math\n",
    "import numpy as np\n",
    "\n",
    "\n",
    "#import glob\n",
    "\n",
    "try:\n",
    "    import healpy as hp\n",
    "except ModuleNotFoundError:\n",
    "    print('No Healpy, proceeding...\\n')\n",
    "    \n",
    "\n",
    "import warnings\n",
    "\n",
    "import warnings\n",
    "warnings.filterwarnings(\"ignore\")\n",
    "\n",
    "\n",
    "def _validate_level(level):\n",
    "    if np.any(level < 0):\n",
    "        raise ValueError('level must be positive')\n",
    "        \n",
    "\n",
    "def level_to_nside(level):\n",
    "    \"\"\"\n",
    "    Find the pixel dimensions of the top-level HEALPix tiles.\n",
    "\n",
    "    This is given by ``nside = 2**level``.\n",
    "\n",
    "    Parameters\n",
    "    ----------\n",
    "    level : int\n",
    "        The resolution level\n",
    "\n",
    "    Returns\n",
    "    -------\n",
    "    nside : int\n",
    "        The number of pixels on the side of one of the 12 'top-level' HEALPix tiles.\n",
    "    \"\"\"\n",
    "    level = np.asarray(level, dtype=np.int64)\n",
    "\n",
    "    _validate_level(level)\n",
    "    return 2 ** level\n",
    "\n",
    "\n",
    "def pixel_resolution_to_nside(resolution, round='nearest'):\n",
    "    \"\"\"Find closest HEALPix nside for a given angular resolution.\n",
    "\n",
    "    This function is the inverse of `nside_to_pixel_resolution`,\n",
    "    for the default rounding scheme of ``round='nearest'``.\n",
    "\n",
    "    If you choose ``round='up'``, you'll get HEALPix pixels that\n",
    "    have at least the requested resolution (usually a bit better\n",
    "    due to rounding).\n",
    "\n",
    "    Pixel resolution is defined as square root of pixel area.\n",
    "\n",
    "    Parameters\n",
    "    ----------\n",
    "    resolution : `~astropy.units.Quantity`\n",
    "        Angular resolution\n",
    "    round : {'up', 'nearest', 'down'}\n",
    "        Which way to round\n",
    "\n",
    "    Returns\n",
    "    -------\n",
    "    nside : int\n",
    "        The number of pixels on the side of one of the 12 'top-level' HEALPix tiles.\n",
    "        Always a power of 2.\n",
    "\n",
    "    Examples\n",
    "    --------\n",
    "    >>> from astropy import units as u\n",
    "    >>> from astropy_healpix import pixel_resolution_to_nside\n",
    "    >>> pixel_resolution_to_nside(13 * u.arcmin)\n",
    "    256\n",
    "    >>> pixel_resolution_to_nside(13 * u.arcmin, round='up')\n",
    "    512\n",
    "    \"\"\"\n",
    "    resolution = resolution.to(u.rad).value\n",
    "    pixel_area = resolution * resolution\n",
    "    npix = 4 * math.pi / pixel_area\n",
    "    nside = np.sqrt(npix / 12)\n",
    "\n",
    "    # Now we have to round to the closest ``nside``\n",
    "    # Since ``nside`` must be a power of two,\n",
    "    # we first compute the corresponding ``level = log2(nside)`\n",
    "    # round the level and then go back to nside\n",
    "    level = np.log2(nside)\n",
    "\n",
    "    if round == 'up':\n",
    "        level = np.ceil(level)\n",
    "    elif round == 'nearest':\n",
    "        level = np.round(level)\n",
    "    elif round == 'down':\n",
    "        level = np.floor(level)\n",
    "    else:\n",
    "        raise ValueError(f'Invalid value for round: {round!r}')\n",
    "\n",
    "    # For very low requested resolution (i.e. large angle values), we\n",
    "    # return ``level=0``, i.e. ``nside=1``, i.e. the lowest resolution\n",
    "    # that exists with HEALPix\n",
    "    level = np.clip(level.astype(int), 0, None)\n",
    "\n",
    "    return level_to_nside(level)\n",
    "\n",
    "\n",
    "def temporal_check(new_Event_time, old_Event_times, offset_time=300.0):\n",
    "    seconds_offset = np.abs((new_Event_time-old_Event_times).sec)\n",
    "    filter_array = seconds_offset<offset_time\n",
    "    return filter_array\n",
    "\n",
    "\n",
    "def temporal_BF_check(new_Event_time, old_Event_times, priors = [1000.0, 30/365.25/86400, 99/365.25/86400, 236/365.25/86400] ):\n",
    "    offset_time = priors[0]\n",
    "    R_joint = priors[1]\n",
    "    R_1 = priors[2]\n",
    "    R_2 = priors[3]\n",
    "    \n",
    "    new_Event_time = Time(new_Event_time)\n",
    "    old_Event_times = Time(old_Event_times)\n",
    "    seconds_offset = np.abs((new_Event_time-old_Event_times).sec)\n",
    "    if seconds_offset < offset_time:\n",
    "        BF = R_joint/R_1/R_2/np.abs(offset_time)\n",
    "    else:\n",
    "        BF = 0\n",
    "    return BF\n",
    "    \n",
    "def temporal_BFs_check(new_Event_times, old_Event_times, priors = [1000.0, 30/365.25/86400, 99/365.25/86400, 236/365.25/86400] ):\n",
    "    offset_time = priors[0]\n",
    "    R_joint = priors[1]\n",
    "    R_1 = priors[2]\n",
    "    R_2 = priors[3]\n",
    "    \n",
    "    new_Event_times = Time(new_Event_times)\n",
    "    old_Event_times = Time(old_Event_times)\n",
    "\n",
    "    BFs = np.zeros([len(new_Event_times), len(old_Event_times)])\n",
    "    idt = np.identity(len(new_Event_times))\n",
    "    \n",
    "    seconds_offset = np.asarray([np.abs((new_Event_time-old_Event_times).sec) for new_Event_time in new_Event_times])\n",
    "    \n",
    "    filter_array = seconds_offset<offset_time\n",
    "    BFs = [R_joint/R_1/R_2/np.abs(seconds_offset[i])*filter_array[i] for i in range(len(seconds_offset))]\n",
    "    \n",
    "    return BFs, filter_array, seconds_offset[0]\n",
    "\n",
    "def make_circular_map(spatial_info, base_NSIDE):\n",
    "    NPIX = hp.nside2npix(base_NSIDE)\n",
    "    skymap = np.zeros(NPIX)\n",
    "    center_pix = hp.pixelfunc.ang2pix(base_NSIDE, spatial_info[1], \n",
    "                                      spatial_info[2], lonlat=True)\n",
    "    skymap[center_pix] = 1\n",
    "    error_radius = spatial_info[3]\n",
    "    error_equivalent_NSIDE = pixel_resolution_to_nside(error_radius*u.deg, round='up')\n",
    "\n",
    "    if error_equivalent_NSIDE > base_NSIDE:\n",
    "        skymap_smoothed = skymap\n",
    "    else:\n",
    "        skymap_smoothed = hp.smoothing(skymap, sigma=np.deg2rad(error_radius), \n",
    "                                   verbose=False)\n",
    "    return skymap_smoothed\n",
    "\n",
    "\n",
    "def make_uniform_map(base_NSIDE):\n",
    "    npix = hp.pixelfunc.nside2npix(base_NSIDE)\n",
    "    skymap = np.ones(npix)\n",
    "    skymap = skymap/sum(skymap)\n",
    "    return skymap\n",
    "\n",
    "\n",
    "def get_HEALPix_map(spatial_info, base_NSIDE):    \n",
    "#    if spatial_info[0] == 'Skymap-HEALPix':\n",
    "#        skymap = hp.read_map(spatial_info[1], verbose=False)\n",
    "#    elif spatial_info[0] == 'CIRCULAR':\n",
    "#        skymap = make_circular_map(spatial_info, base_NSIDE)\n",
    "    if spatial_info is None:\n",
    "        skymap = make_uniform_map(base_NSIDE)\n",
    "    elif os.path.isfile(spatial_info):\n",
    "        skymap = hp.read_map(spatial_info, verbose=False)\n",
    "    else:\n",
    "        print(spatial_info)\n",
    "    #add things like elliptical? IPN stuff? etc?\n",
    "    return skymap\n",
    "\n",
    "\n",
    "def get_skymaps(skymap_path_1, skymap_path_2, base_NSIDE=128):\n",
    "#    print(skymap_path_1)\n",
    "    skymap_1 = get_HEALPix_map(skymap_path_1, base_NSIDE)\n",
    "#    skymap_1 = hp.read_map(skymap_path_1, verbose=False)\n",
    "    skymap_2 = get_HEALPix_map(skymap_path_2, base_NSIDE)\n",
    "#    skymap_2 = hp.read_map(skymap_path_2, verbose=False)\n",
    "    max_NSIDE = max([hp.pixelfunc.get_nside(skymap_1), \n",
    "                     hp.pixelfunc.get_nside(skymap_2), base_NSIDE])\n",
    "    \n",
    "    if hp.pixelfunc.get_nside(skymap_1) < max_NSIDE:\n",
    "        skymap_1 = hp.ud_grade(skymap_1, max_NSIDE)\n",
    "    if hp.pixelfunc.get_nside(skymap_2) < max_NSIDE:\n",
    "        skymap_2 = hp.ud_grade(skymap_2, max_NSIDE)\n",
    "        \n",
    "    skymap_1[skymap_1<0.0] = 0.0\n",
    "    skymap_1 = skymap_1/sum(skymap_1)\n",
    "    skymap_2[skymap_2<0.0] = 0.0\n",
    "    skymap_2 = skymap_2/sum(skymap_2) \n",
    "    \n",
    "    return skymap_1, skymap_2, max_NSIDE\n",
    "\n",
    "\n",
    "def spatial_BF_check(skymap_1, skymap_2, max_NSIDE):\n",
    "\n",
    "#    hp.mollview(skymap_1)\n",
    "#    plt.savefig('skymap_1.png')\n",
    "#    hp.mollview(skymap_2)\n",
    "#    plt.savefig('skymap_2.png')\n",
    "    \n",
    "    A = 4*np.pi/hp.pixelfunc.nside2npix(max_NSIDE)\n",
    "    if hp.pixelfunc.get_nside(skymap_1) != max_NSIDE:\n",
    "        skymap_1 = hp.ud_grade(skymap_1, max_NSIDE)\n",
    "    if hp.pixelfunc.get_nside(skymap_2) != max_NSIDE:\n",
    "        skymap_2 = hp.ud_grade(skymap_2, max_NSIDE)\n",
    "    \n",
    "    \n",
    "    skymap_1_p = skymap_1/A\n",
    "    skymap_2_p = skymap_2/A\n",
    "    \n",
    "    I_Omega = 4*np.pi*np.sum(skymap_1_p*skymap_2_p)*A\n",
    "    return I_Omega"
   ]
  },
  {
   "cell_type": "code",
   "execution_count": 5,
   "metadata": {},
   "outputs": [],
   "source": [
    "import flask_backend\n",
    "from flask_backend.models import db\n",
    "app = flask_backend.create_app()\n",
    "app.app_context().push()"
   ]
  },
  {
   "cell_type": "code",
   "execution_count": 6,
   "metadata": {},
   "outputs": [],
   "source": [
    "from flask_backend.models import EventNotice, Event"
   ]
  },
  {
   "cell_type": "code",
   "execution_count": null,
   "metadata": {},
   "outputs": [],
   "source": [
    "trig = [notice.trigger for notice in EventNotice.query.all()]"
   ]
  },
  {
   "cell_type": "code",
   "execution_count": null,
   "metadata": {},
   "outputs": [],
   "source": [
    "id = [notice.mid for notice in EventNotice.query.all()]"
   ]
  },
  {
   "cell_type": "code",
   "execution_count": null,
   "metadata": {},
   "outputs": [],
   "source": [
    "sum(np.asarray(id) == 5)"
   ]
  },
  {
   "cell_type": "code",
   "execution_count": null,
   "metadata": {},
   "outputs": [],
   "source": [
    "len(trig)"
   ]
  },
  {
   "cell_type": "code",
   "execution_count": null,
   "metadata": {},
   "outputs": [],
   "source": [
    "BFs, trig= temporal_BFs_check(trig)"
   ]
  },
  {
   "cell_type": "code",
   "execution_count": 7,
   "metadata": {},
   "outputs": [],
   "source": [
    "nlist = [evt.notices for evt in Event.query.all() if len(evt.notices) > 1]"
   ]
  },
  {
   "cell_type": "code",
   "execution_count": 8,
   "metadata": {},
   "outputs": [
    {
     "data": {
      "text/plain": [
       "27"
      ]
     },
     "execution_count": 8,
     "metadata": {},
     "output_type": "execute_result"
    }
   ],
   "source": [
    "len(nlist)"
   ]
  },
  {
   "cell_type": "code",
   "execution_count": 9,
   "metadata": {},
   "outputs": [
    {
     "data": {
      "text/plain": [
       "[[<EventNotice (id: '154', mid: '1', tid: '743086', nid: '13430', evtid: '2152', event: 'GRB 170318B')>,\n",
       "  <EventNotice (id: '2480', mid: '5', tid: '511543678', nid: '199845', evtid: '2152', event: 'GRB 170318B')>],\n",
       " [<EventNotice (id: '45', mid: '1', tid: '745797', nid: '3499', evtid: '2160', event: 'GRB 170405A')>,\n",
       "  <EventNotice (id: '2215', mid: '5', tid: '513110367', nid: '194705', evtid: '2160', event: 'GRB 170405A')>],\n",
       " [<EventNotice (id: '183', mid: '1', tid: '748947', nid: '15647', evtid: '2164', event: 'GRB 170419B')>,\n",
       "  <EventNotice (id: '2223', mid: '5', tid: '514330431', nid: '195203', evtid: '2164', event: 'GRB 170419B')>],\n",
       " [<EventNotice (id: '92', mid: '1', tid: '756284', nid: '8059', evtid: '2182', event: 'GRB 170607A')>,\n",
       "  <EventNotice (id: '2184', mid: '5', tid: '518570284', nid: '192472', evtid: '2182', event: 'GRB 170607A')>],\n",
       " [<EventNotice (id: '142', mid: '1', tid: '760064', nid: '12472', evtid: '2188', event: 'GRB 170705A')>,\n",
       "  <EventNotice (id: '2015', mid: '5', tid: '520915556', nid: '180872', evtid: '2188', event: 'GRB 170705A')>],\n",
       " [<EventNotice (id: '568', mid: '1', tid: '761622', nid: '48083', evtid: '2192', event: 'GRB 170711A')>,\n",
       "  <EventNotice (id: '2079', mid: '5', tid: '521504430', nid: '184948', evtid: '2192', event: 'GRB 170711A')>],\n",
       " [<EventNotice (id: '127', mid: '1', tid: '766081', nid: '11115', evtid: '2199', event: 'GRB 170803A')>,\n",
       "  <EventNotice (id: '2454', mid: '5', tid: '523474232', nid: '191059', evtid: '2199', event: 'GRB 170803A')>],\n",
       " [<EventNotice (id: '292', mid: '1', tid: '767563', nid: '24462', evtid: '2204', event: 'GRB 170813A')>,\n",
       "  <EventNotice (id: '1825', mid: '5', tid: '524279593', nid: '168408', evtid: '2204', event: 'GRB 170813A')>],\n",
       " [<EventNotice (id: '177', mid: '1', tid: '770528', nid: '15115', evtid: '2217', event: 'GRB 170903A')>,\n",
       "  <EventNotice (id: '1980', mid: '5', tid: '526135752', nid: '178435', evtid: '2217', event: 'GRB 170903A')>],\n",
       " [<EventNotice (id: '76', mid: '1', tid: '770957', nid: '6111', evtid: '2218', event: 'GRB 170906A')>,\n",
       "  <EventNotice (id: '2191', mid: '5', tid: '526351393', nid: '192984', evtid: '2218', event: 'GRB 170906A')>],\n",
       " [<EventNotice (id: '394', mid: '1', tid: '770958', nid: '31608', evtid: '2219', event: 'GRB 170906B')>,\n",
       "  <EventNotice (id: '2126', mid: '5', tid: '526352145', nid: '188315', evtid: '2219', event: 'GRB 170906B')>],\n",
       " [<EventNotice (id: '287', mid: '1', tid: '772052', nid: '23997', evtid: '2223', event: 'GRB 170912B')>,\n",
       "  <EventNotice (id: '2056', mid: '5', tid: '526890831', nid: '183572', evtid: '2223', event: 'GRB 170912B')>],\n",
       " [<EventNotice (id: '35', mid: '1', tid: '777215', nid: '2527', evtid: '2229', event: 'GRB 171007A')>,\n",
       "  <EventNotice (id: '2124', mid: '5', tid: '529070264', nid: '188307', evtid: '2229', event: 'GRB 171007A')>],\n",
       " [<EventNotice (id: '316', mid: '1', tid: '802999', nid: '25446', evtid: '2262', event: 'GRB 180102A')>,\n",
       "  <EventNotice (id: '2201', mid: '5', tid: '536600992', nid: '193906', evtid: '2262', event: 'GRB 180102A')>],\n",
       " [<EventNotice (id: '239', mid: '1', tid: '804999', nid: '20444', evtid: '2265', event: 'GRB 180113A')>,\n",
       "  <EventNotice (id: '1909', mid: '5', tid: '537504431', nid: '174639', evtid: '2265', event: 'GRB 180113A')>],\n",
       " [<EventNotice (id: '228', mid: '1', tid: '814129', nid: '19629', evtid: '2282', event: 'GRB 180314A')>,\n",
       "  <EventNotice (id: '2014', mid: '5', tid: '542681004', nid: '180797', evtid: '2282', event: 'GRB 180314A')>],\n",
       " [<EventNotice (id: '147', mid: '1', tid: '821103', nid: '13032', evtid: '2291', event: 'GRB 180402A')>,\n",
       "  <EventNotice (id: '2411', mid: '5', tid: '544355104', nid: '177344', evtid: '2291', event: 'GRB 180402A')>],\n",
       " [<EventNotice (id: '109', mid: '1', tid: '824063', nid: '9278', evtid: '2296', event: 'GRB 180410A')>,\n",
       "  <EventNotice (id: '2138', mid: '5', tid: '545040212', nid: '189429', evtid: '2296', event: 'GRB 180410A')>],\n",
       " [<EventNotice (id: '138', mid: '1', tid: '826428', nid: '12232', evtid: '2300', event: 'GRB 180418A')>,\n",
       "  <EventNotice (id: '2390', mid: '5', tid: '545726651', nid: '172184', evtid: '2300', event: 'GRB 180418A')>],\n",
       " [<EventNotice (id: '155', mid: '1', tid: '845443', nid: '13438', evtid: '2322', event: 'GRB 180630A')>,\n",
       "  <EventNotice (id: '2093', mid: '5', tid: '552049919', nid: '185956', evtid: '2322', event: 'GRB 180630A')>],\n",
       " [<EventNotice (id: '359', mid: '1', tid: '848048', nid: '29070', evtid: '2330', event: 'GRB 180715A')>,\n",
       "  <EventNotice (id: '2440', mid: '5', tid: '553370830', nid: '187574', evtid: '2330', event: 'GRB 180715A')>],\n",
       " [<EventNotice (id: '51', mid: '1', tid: '848890', nid: '4008', evtid: '2334', event: 'GRB 180720B')>,\n",
       "  <EventNotice (id: '2294', mid: '5', tid: '553789304', nid: '200647', evtid: '2334', event: 'GRB 180720B')>],\n",
       " [<EventNotice (id: '115', mid: '1', tid: '848932', nid: '9888', evtid: '2335', event: 'GRB 180720C')>,\n",
       "  <EventNotice (id: '1816', mid: '5', tid: '553818238', nid: '168195', evtid: '2335', event: 'GRB 180720C')>],\n",
       " [<EventNotice (id: '252', mid: '1', tid: '850471', nid: '21707', evtid: '2340', event: 'GRB 180728A')>,\n",
       "  <EventNotice (id: '2087', mid: '5', tid: '554491747', nid: '185393', evtid: '2340', event: 'GRB 180728A')>],\n",
       " [<EventNotice (id: '12', mid: '1', tid: '851855', nid: '885', evtid: '2343', event: 'GRB 180805B')>,\n",
       "  <EventNotice (id: '2428', mid: '5', tid: '555166961', nid: '183014', evtid: '2343', event: 'GRB 180805B')>],\n",
       " [<EventNotice (id: '641', mid: '1', tid: '852903', nid: '54133', evtid: '2347', event: 'GRB 180812A')>,\n",
       "  <EventNotice (id: '1837', mid: '5', tid: '555754955', nid: '169143', evtid: '2347', event: 'GRB 180812A')>],\n",
       " [<EventNotice (id: '58', mid: '1', tid: '853882', nid: '4808', evtid: '2349', event: 'GRB 180818B')>,\n",
       "  <EventNotice (id: '2095', mid: '5', tid: '556288142', nid: '186011', evtid: '2349', event: 'GRB 180818B')>]]"
      ]
     },
     "execution_count": 9,
     "metadata": {},
     "output_type": "execute_result"
    }
   ],
   "source": [
    "nlist"
   ]
  },
  {
   "cell_type": "code",
   "execution_count": 12,
   "metadata": {},
   "outputs": [],
   "source": [
    "tdiff = []\n",
    "for notices in nlist:\n",
    "    tdiff.append([abs(Time(notices[0].trigger)-Time(notices[1].trigger)).sec, notices[0].event])\n",
    "tdiff = np.asarray(tdiff)"
   ]
  },
  {
   "cell_type": "code",
   "execution_count": 19,
   "metadata": {},
   "outputs": [
    {
     "data": {
      "text/plain": [
       "array([['0.5399999999987415', 'GRB 170318B'],\n",
       "       ['25.53999999998986', 'GRB 170405A'],\n",
       "       ['0.7599999999953866', 'GRB 170419B'],\n",
       "       ['214.1399999999976', 'GRB 170607A'],\n",
       "       ['3.949999999994702', 'GRB 170705A'],\n",
       "       ['0.0800000000005241', 'GRB 170711A'],\n",
       "       ['0.05999999999559691', 'GRB 170803A'],\n",
       "       ['7.680000000011944', 'GRB 170813A'],\n",
       "       ['0.5799999999990035', 'GRB 170903A'],\n",
       "       ['3.4700000000107423', 'GRB 170906A'],\n",
       "       ['4.880000000003193', 'GRB 170906B'],\n",
       "       ['0.18999999999884665', 'GRB 170912B'],\n",
       "       ['1.629999999998688', 'GRB 171007A'],\n",
       "       ['2.919999999999945', 'GRB 180102A'],\n",
       "       ['0.5200000000034066', 'GRB 180113A'],\n",
       "       ['11.47999999999847', 'GRB 180314A'],\n",
       "       ['0.10000000000545128', 'GRB 180402A'],\n",
       "       ['28.559999999995256', 'GRB 180410A'],\n",
       "       ['0.03999999999066972', 'GRB 180418A'],\n",
       "       ['2.610000000000312', 'GRB 180630A'],\n",
       "       ['0.05999999999559691', 'GRB 180715A'],\n",
       "       ['4.93999999999879', 'GRB 180720B'],\n",
       "       ['4.490000000003036', 'GRB 180720C'],\n",
       "       ['1.5700000000030911', 'GRB 180728A'],\n",
       "       ['0.049999999993133315', 'GRB 180805B'],\n",
       "       ['0.08000000001011642', 'GRB 180812A'],\n",
       "       ['81.3100000000123', 'GRB 180818B']], dtype='<U32')"
      ]
     },
     "execution_count": 19,
     "metadata": {},
     "output_type": "execute_result"
    }
   ],
   "source": [
    "tdiff"
   ]
  },
  {
   "cell_type": "code",
   "execution_count": 17,
   "metadata": {},
   "outputs": [
    {
     "data": {
      "text/plain": [
       "Text(0.5, 0, 'abs( trigger time difference )')"
      ]
     },
     "execution_count": 17,
     "metadata": {},
     "output_type": "execute_result"
    },
    {
     "data": {
      "image/png": "[encoded data removed]",
      "text/plain": [
       "<Figure size 432x288 with 1 Axes>"
      ]
     },
     "metadata": {
      "needs_background": "light"
     },
     "output_type": "display_data"
    }
   ],
   "source": [
    "plt.hist(tdiff[:,0].astype(\"float\"), bins=np.logspace(-2, 3, 30))\n",
    "plt.xscale(\"log\")\n",
    "plt.xlabel(\"abs( trigger time difference )\", fontsize=12)"
   ]
  },
  {
   "cell_type": "markdown",
   "metadata": {},
   "source": [
    "$$BF = \\frac{R_{joint}}{R_1 R_2 |t_1 - t_2|}$$"
   ]
  },
  {
   "cell_type": "markdown",
   "metadata": {},
   "source": [
    "$$R_{joint} = \\frac{30}{365.25 \\times 86400}$$\n",
    "\n",
    "$$R_{Fermi} = \\frac{236}{365.25 \\times 86400}$$\n",
    "\n",
    "$$R_{Swift} = \\frac{99}{365.25 \\times 86400}$$"
   ]
  },
  {
   "cell_type": "code",
   "execution_count": 29,
   "metadata": {},
   "outputs": [
    {
     "data": {
      "text/plain": [
       "40.52080123266563"
      ]
     },
     "execution_count": 29,
     "metadata": {},
     "output_type": "execute_result"
    }
   ],
   "source": [
    "R_joint/R_1/R_2/1000"
   ]
  },
  {
   "cell_type": "code",
   "execution_count": 27,
   "metadata": {},
   "outputs": [
    {
     "data": {
      "text/plain": [
       "Text(0.5, 0, 'BF')"
      ]
     },
     "execution_count": 27,
     "metadata": {},
     "output_type": "execute_result"
    },
    {
     "data": {
      "image/png": "[encoded data removed]",
      "text/plain": [
       "<Figure size 432x288 with 1 Axes>"
      ]
     },
     "metadata": {
      "needs_background": "light"
     },
     "output_type": "display_data"
    }
   ],
   "source": [
    "priors = [1000.0, 30/365.25/86400, 99/365.25/86400, 236/365.25/86400]\n",
    "offset_time = priors[0]\n",
    "R_joint = priors[1]\n",
    "R_1 = priors[2]\n",
    "R_2 = priors[3]\n",
    "\n",
    "plt.hist(R_joint/R_1/R_2/tdiff[:,0].astype(\"float\"), bins=np.logspace(2, 6.5, 30))\n",
    "plt.xscale(\"log\")\n",
    "plt.xlabel(\"BF\", fontsize=12)"
   ]
  },
  {
   "cell_type": "code",
   "execution_count": 18,
   "metadata": {},
   "outputs": [
    {
     "data": {
      "text/plain": [
       "'81.3100000000123'"
      ]
     },
     "execution_count": 18,
     "metadata": {},
     "output_type": "execute_result"
    }
   ],
   "source": [
    "max(tdiff[:,0].astype())"
   ]
  },
  {
   "cell_type": "code",
   "execution_count": null,
   "metadata": {},
   "outputs": [],
   "source": []
  }
 ],
 "metadata": {
  "kernelspec": {
   "display_name": "Python 3",
   "language": "python",
   "name": "python3"
  },
  "language_info": {
   "codemirror_mode": {
    "name": "ipython",
    "version": 3
   },
   "file_extension": ".py",
   "mimetype": "text/x-python",
   "name": "python",
   "nbconvert_exporter": "python",
   "pygments_lexer": "ipython3",
   "version": "3.7.6"
  }
 },
 "nbformat": 4,
 "nbformat_minor": 4
}
